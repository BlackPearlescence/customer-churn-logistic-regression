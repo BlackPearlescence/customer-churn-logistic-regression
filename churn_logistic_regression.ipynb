{
 "cells": [
  {
   "attachments": {},
   "cell_type": "markdown",
   "metadata": {},
   "source": [
    "### Import Libraries"
   ]
  },
  {
   "cell_type": "code",
   "execution_count": 482,
   "metadata": {},
   "outputs": [],
   "source": [
    "import numpy as np\n",
    "import matplotlib.pyplot as plt\n",
    "import pandas as pd"
   ]
  },
  {
   "attachments": {},
   "cell_type": "markdown",
   "metadata": {},
   "source": [
    "### Import Datasets"
   ]
  },
  {
   "cell_type": "code",
   "execution_count": 483,
   "metadata": {},
   "outputs": [],
   "source": [
    "train_dataset = pd.read_csv(\"customer_churn_dataset-training-master.csv\")\n",
    "test_dataset = pd.read_csv(\"customer_churn_dataset-testing-master.csv\")"
   ]
  },
  {
   "cell_type": "markdown",
   "metadata": {},
   "source": [
    "### Finding Empty Values (Training)"
   ]
  },
  {
   "cell_type": "code",
   "execution_count": 484,
   "metadata": {},
   "outputs": [
    {
     "data": {
      "text/plain": [
       "CustomerID           0\n",
       "Age                  0\n",
       "Gender               0\n",
       "Tenure               0\n",
       "Usage Frequency      0\n",
       "Support Calls        0\n",
       "Payment Delay        0\n",
       "Subscription Type    0\n",
       "Contract Length      0\n",
       "Total Spend          0\n",
       "Last Interaction     0\n",
       "Churn                0\n",
       "dtype: int64"
      ]
     },
     "execution_count": 484,
     "metadata": {},
     "output_type": "execute_result"
    }
   ],
   "source": [
    "train_dataset.isnull().sum()"
   ]
  },
  {
   "cell_type": "markdown",
   "metadata": {},
   "source": [
    "### Finding Empty Values (Testing)"
   ]
  },
  {
   "cell_type": "code",
   "execution_count": 485,
   "metadata": {},
   "outputs": [
    {
     "data": {
      "text/plain": [
       "CustomerID           0\n",
       "Age                  0\n",
       "Gender               0\n",
       "Tenure               0\n",
       "Usage Frequency      0\n",
       "Support Calls        0\n",
       "Payment Delay        0\n",
       "Subscription Type    0\n",
       "Contract Length      0\n",
       "Total Spend          0\n",
       "Last Interaction     0\n",
       "Churn                0\n",
       "dtype: int64"
      ]
     },
     "execution_count": 485,
     "metadata": {},
     "output_type": "execute_result"
    }
   ],
   "source": [
    "test_dataset.isnull().sum()"
   ]
  },
  {
   "cell_type": "markdown",
   "metadata": {},
   "source": [
    "### Create Preprocessing Pipeline"
   ]
  },
  {
   "cell_type": "code",
   "execution_count": 486,
   "metadata": {},
   "outputs": [],
   "source": [
    "from sklearn.impute import SimpleImputer\n",
    "from sklearn.compose import ColumnTransformer\n",
    "from sklearn.pipeline import Pipeline\n",
    "from sklearn.preprocessing import StandardScaler, OneHotEncoder, OrdinalEncoder\n",
    "\n",
    "num_cols = [1,3, 4, 5, 6, 9]\n",
    "num_cols = [\"Age\", \"Tenure\", \"Usage Frequency\", \"Support Calls\", \"Payment Delay\", \"Total Spend\", \"Last Interaction\"]\n",
    "cat_cols = [2, 7, 8, 10]\n",
    "cat_cols = [\"Subscription Type\", \"Contract Length\"]\n",
    "gender_cols = [\"Gender\"]\n",
    "\n",
    "num_preprocessor = Pipeline(steps=[\n",
    "    # (\"num_imputer\", SimpleImputer(strategy=\"mean\")),\n",
    "    (\"scaler\", StandardScaler())\n",
    "])\n",
    "\n",
    "cat_preprocessor = Pipeline(steps=[\n",
    "    # (\"cat_imputer\", SimpleImputer(strategy=\"most_frequent\", fill_value=\"missing\")),\n",
    "    (\"label\", OrdinalEncoder())\n",
    "])\n",
    "\n",
    "gender_preprocessor = Pipeline(steps=[\n",
    "    # (\"gender_imputer\", SimpleImputer(strategy=\"most_frequent\", fill_value=\"missing\")),\n",
    "    (\"onehot\", OneHotEncoder(drop=\"first\"))\n",
    "])\n",
    "\n",
    "pre_transformer = ColumnTransformer(\n",
    "    transformers=[\n",
    "        (\"mean_imputer\", num_preprocessor , num_cols),\n",
    "        (\"gender_imputer\", gender_preprocessor, gender_cols),\n",
    "        (\"mode_imputer\", cat_preprocessor, cat_cols)\n",
    "    ]\n",
    ")\n",
    "\n",
    "\n"
   ]
  },
  {
   "cell_type": "code",
   "execution_count": 487,
   "metadata": {},
   "outputs": [
    {
     "name": "stdout",
     "output_type": "stream",
     "text": [
      "CustomerID                  2\n",
      "Age                        30\n",
      "Gender                 Female\n",
      "Tenure                     39\n",
      "Usage Frequency            14\n",
      "Support Calls               5\n",
      "Payment Delay              18\n",
      "Subscription Type    Standard\n",
      "Contract Length        Annual\n",
      "Total Spend             932.0\n",
      "Last Interaction           17\n",
      "Churn                       1\n",
      "Name: 0, dtype: object\n",
      "CustomerID                 3\n",
      "Age                       65\n",
      "Gender                Female\n",
      "Tenure                    49\n",
      "Usage Frequency            1\n",
      "Support Calls             10\n",
      "Payment Delay              8\n",
      "Subscription Type      Basic\n",
      "Contract Length      Monthly\n",
      "Total Spend            557.0\n",
      "Last Interaction           6\n",
      "Churn                      1\n",
      "Name: 1, dtype: object\n",
      "CustomerID                   4\n",
      "Age                         55\n",
      "Gender                  Female\n",
      "Tenure                      14\n",
      "Usage Frequency              4\n",
      "Support Calls                6\n",
      "Payment Delay               18\n",
      "Subscription Type        Basic\n",
      "Contract Length      Quarterly\n",
      "Total Spend              185.0\n",
      "Last Interaction             3\n",
      "Churn                        1\n",
      "Name: 2, dtype: object\n",
      "CustomerID                  5\n",
      "Age                        58\n",
      "Gender                   Male\n",
      "Tenure                     38\n",
      "Usage Frequency            21\n",
      "Support Calls               7\n",
      "Payment Delay               7\n",
      "Subscription Type    Standard\n",
      "Contract Length       Monthly\n",
      "Total Spend             396.0\n",
      "Last Interaction           29\n",
      "Churn                       1\n",
      "Name: 3, dtype: object\n",
      "CustomerID                 6\n",
      "Age                       23\n",
      "Gender                  Male\n",
      "Tenure                    32\n",
      "Usage Frequency           20\n",
      "Support Calls              5\n",
      "Payment Delay              8\n",
      "Subscription Type      Basic\n",
      "Contract Length      Monthly\n",
      "Total Spend            617.0\n",
      "Last Interaction          20\n",
      "Churn                      1\n",
      "Name: 4, dtype: object\n"
     ]
    }
   ],
   "source": [
    "# train_dataset = pre_transformer.fit_transform(train_dataset)\n",
    "# test_dataset = pre_transformer.fit_transform(test_dataset)\n",
    "print(train_dataset.iloc[0, :])\n",
    "print(train_dataset.iloc[1, :])\n",
    "print(train_dataset.iloc[2, :])\n",
    "print(train_dataset.iloc[3, :])\n",
    "print(train_dataset.iloc[4, :])\n",
    "\n",
    "# print(pre_transformer.get_feature_names_out())"
   ]
  },
  {
   "cell_type": "markdown",
   "metadata": {},
   "source": [
    "### Splitting between x and y"
   ]
  },
  {
   "cell_type": "code",
   "execution_count": 488,
   "metadata": {},
   "outputs": [],
   "source": [
    "x_train = train_dataset.iloc[:, 1:-1]\n",
    "y_train = train_dataset.iloc[:, -1]\n",
    "x_test = test_dataset.iloc[:, 1:-1]\n",
    "y_test = test_dataset.iloc[:, -1]"
   ]
  },
  {
   "cell_type": "code",
   "execution_count": 489,
   "metadata": {},
   "outputs": [
    {
     "name": "stdout",
     "output_type": "stream",
     "text": [
      "        Age  Gender  Tenure  Usage Frequency  Support Calls  Payment Delay  \\\n",
      "0        30  Female      39               14              5             18   \n",
      "1        65  Female      49                1             10              8   \n",
      "2        55  Female      14                4              6             18   \n",
      "3        58    Male      38               21              7              7   \n",
      "4        23    Male      32               20              5              8   \n",
      "...     ...     ...     ...              ...            ...            ...   \n",
      "440827   42    Male      54               15              1              3   \n",
      "440828   25  Female       8               13              1             20   \n",
      "440829   26    Male      35               27              1              5   \n",
      "440830   28    Male      55               14              2              0   \n",
      "440831   31    Male      48               20              1             14   \n",
      "\n",
      "       Subscription Type Contract Length  Total Spend  Last Interaction  \n",
      "0               Standard          Annual       932.00                17  \n",
      "1                  Basic         Monthly       557.00                 6  \n",
      "2                  Basic       Quarterly       185.00                 3  \n",
      "3               Standard         Monthly       396.00                29  \n",
      "4                  Basic         Monthly       617.00                20  \n",
      "...                  ...             ...          ...               ...  \n",
      "440827           Premium          Annual       716.38                 8  \n",
      "440828           Premium          Annual       745.38                 2  \n",
      "440829          Standard       Quarterly       977.31                 9  \n",
      "440830          Standard       Quarterly       602.55                 2  \n",
      "440831           Premium       Quarterly       567.77                21  \n",
      "\n",
      "[440832 rows x 10 columns]\n",
      "0         1\n",
      "1         1\n",
      "2         1\n",
      "3         1\n",
      "4         1\n",
      "         ..\n",
      "440827    0\n",
      "440828    0\n",
      "440829    0\n",
      "440830    0\n",
      "440831    0\n",
      "Name: Churn, Length: 440832, dtype: int64\n"
     ]
    }
   ],
   "source": [
    "print(x_train)\n",
    "print(y_train)"
   ]
  },
  {
   "cell_type": "markdown",
   "metadata": {},
   "source": [
    "### Creating Classifier Pipeline"
   ]
  },
  {
   "cell_type": "code",
   "execution_count": 490,
   "metadata": {},
   "outputs": [],
   "source": [
    "from sklearn.linear_model import LogisticRegression\n",
    "from sklearn.neighbors import KNeighborsClassifier\n",
    "from sklearn.svm import SVC\n",
    "\n",
    "pipeline = Pipeline(steps=[\n",
    "    (\"preprocessor\", pre_transformer),\n",
    "    (\"classifier\", SVC(kernel=\"linear\", random_state=0))\n",
    "])"
   ]
  },
  {
   "cell_type": "code",
   "execution_count": 491,
   "metadata": {},
   "outputs": [],
   "source": [
    "pipeline.fit(x_train,y_train)"
   ]
  },
  {
   "cell_type": "markdown",
   "metadata": {},
   "source": [
    "### Predicting the Test Results"
   ]
  },
  {
   "cell_type": "code",
   "execution_count": null,
   "metadata": {},
   "outputs": [],
   "source": [
    "y_pred = pd.Series(pipeline.predict(x_test))"
   ]
  },
  {
   "cell_type": "code",
   "execution_count": null,
   "metadata": {},
   "outputs": [],
   "source": [
    "df = pd.DataFrame({\"Predicted\": y_pred, \"Actual\": y_test})"
   ]
  },
  {
   "cell_type": "code",
   "execution_count": null,
   "metadata": {},
   "outputs": [
    {
     "name": "stdout",
     "output_type": "stream",
     "text": [
      "    Predicted  Actual\n",
      "0           1       1\n",
      "1           1       0\n",
      "2           1       0\n",
      "3           1       0\n",
      "4           1       0\n",
      "5           1       0\n",
      "6           1       1\n",
      "7           1       0\n",
      "8           1       0\n",
      "9           1       0\n",
      "10          1       1\n",
      "11          1       0\n",
      "12          1       0\n",
      "13          0       0\n",
      "14          1       0\n",
      "15          1       1\n",
      "16          1       0\n",
      "17          1       0\n",
      "18          1       0\n",
      "19          1       0\n",
      "20          1       0\n",
      "21          1       0\n",
      "22          1       0\n",
      "23          1       0\n",
      "24          1       0\n",
      "25          1       1\n",
      "26          1       0\n",
      "27          1       0\n",
      "28          1       0\n",
      "29          1       1\n",
      "30          1       0\n",
      "31          1       0\n",
      "32          0       0\n",
      "33          1       0\n",
      "34          1       1\n",
      "35          1       0\n",
      "36          1       0\n",
      "37          1       1\n",
      "38          1       0\n",
      "39          1       0\n",
      "40          1       1\n",
      "41          1       0\n",
      "42          1       1\n",
      "43          1       0\n",
      "44          1       0\n",
      "45          1       0\n",
      "46          1       1\n",
      "47          1       0\n",
      "48          1       1\n",
      "49          1       0\n",
      "50          1       0\n",
      "51          1       0\n",
      "52          1       1\n",
      "53          1       0\n",
      "54          1       1\n",
      "55          1       0\n",
      "56          1       0\n",
      "57          1       0\n",
      "58          1       1\n",
      "59          1       0\n",
      "60          1       1\n",
      "61          1       0\n",
      "62          1       0\n",
      "63          0       0\n",
      "64          1       0\n",
      "65          1       1\n",
      "66          1       0\n",
      "67          1       1\n",
      "68          1       0\n",
      "69          1       1\n",
      "70          1       0\n",
      "71          0       0\n",
      "72          1       0\n",
      "73          1       1\n",
      "74          1       0\n",
      "75          1       1\n",
      "76          1       1\n",
      "77          1       1\n",
      "78          1       0\n",
      "79          1       0\n",
      "80          1       0\n",
      "81          1       1\n",
      "82          1       0\n",
      "83          1       0\n",
      "84          1       1\n",
      "85          1       0\n",
      "86          0       0\n",
      "87          1       1\n",
      "88          1       0\n",
      "89          1       0\n",
      "90          1       0\n",
      "91          1       0\n",
      "92          1       0\n",
      "93          1       1\n",
      "94          1       0\n",
      "95          1       0\n",
      "96          1       0\n",
      "97          1       0\n",
      "98          1       1\n",
      "99          1       0\n"
     ]
    }
   ],
   "source": [
    "pd.set_option('display.max_rows', 300)\n",
    "\n",
    "print(df.head(100))"
   ]
  },
  {
   "cell_type": "code",
   "execution_count": null,
   "metadata": {},
   "outputs": [
    {
     "name": "stdout",
     "output_type": "stream",
     "text": [
      "[[ 4628 29253]\n",
      " [  404 30089]]\n"
     ]
    },
    {
     "data": {
      "text/plain": [
       "0.5393015813837885"
      ]
     },
     "execution_count": 481,
     "metadata": {},
     "output_type": "execute_result"
    }
   ],
   "source": [
    "from sklearn.metrics import confusion_matrix, accuracy_score\n",
    "\n",
    "cm = confusion_matrix(y_test, y_pred)\n",
    "print(cm)\n",
    "accuracy_score(y_test, y_pred)"
   ]
  }
 ],
 "metadata": {
  "kernelspec": {
   "display_name": "Python 3",
   "language": "python",
   "name": "python3"
  },
  "language_info": {
   "codemirror_mode": {
    "name": "ipython",
    "version": 3
   },
   "file_extension": ".py",
   "mimetype": "text/x-python",
   "name": "python",
   "nbconvert_exporter": "python",
   "pygments_lexer": "ipython3",
   "version": "3.10.6"
  },
  "orig_nbformat": 4
 },
 "nbformat": 4,
 "nbformat_minor": 2
}
