{
 "cells": [
  {
   "attachments": {},
   "cell_type": "markdown",
   "metadata": {},
   "source": [
    "### Import Libraries"
   ]
  },
  {
   "cell_type": "code",
   "execution_count": 454,
   "metadata": {},
   "outputs": [],
   "source": [
    "import numpy as np\n",
    "import matplotlib.pyplot as plt\n",
    "import pandas as pd"
   ]
  },
  {
   "attachments": {},
   "cell_type": "markdown",
   "metadata": {},
   "source": [
    "### Import Datasets"
   ]
  },
  {
   "cell_type": "code",
   "execution_count": 455,
   "metadata": {},
   "outputs": [],
   "source": [
    "train_dataset = pd.read_csv(\"customer_churn_dataset-training-master.csv\")\n",
    "test_dataset = pd.read_csv(\"customer_churn_dataset-testing-master.csv\")"
   ]
  },
  {
   "cell_type": "markdown",
   "metadata": {},
   "source": [
    "### Finding Empty Values (Training)"
   ]
  },
  {
   "cell_type": "code",
   "execution_count": 456,
   "metadata": {},
   "outputs": [
    {
     "data": {
      "text/plain": [
       "CustomerID           0\n",
       "Age                  0\n",
       "Gender               0\n",
       "Tenure               0\n",
       "Usage Frequency      0\n",
       "Support Calls        0\n",
       "Payment Delay        0\n",
       "Subscription Type    0\n",
       "Contract Length      0\n",
       "Total Spend          0\n",
       "Last Interaction     0\n",
       "Churn                0\n",
       "dtype: int64"
      ]
     },
     "execution_count": 456,
     "metadata": {},
     "output_type": "execute_result"
    }
   ],
   "source": [
    "train_dataset.isnull().sum()"
   ]
  },
  {
   "cell_type": "markdown",
   "metadata": {},
   "source": [
    "### Finding Empty Values (Testing)"
   ]
  },
  {
   "cell_type": "code",
   "execution_count": 457,
   "metadata": {},
   "outputs": [
    {
     "data": {
      "text/plain": [
       "CustomerID           0\n",
       "Age                  0\n",
       "Gender               0\n",
       "Tenure               0\n",
       "Usage Frequency      0\n",
       "Support Calls        0\n",
       "Payment Delay        0\n",
       "Subscription Type    0\n",
       "Contract Length      0\n",
       "Total Spend          0\n",
       "Last Interaction     0\n",
       "Churn                0\n",
       "dtype: int64"
      ]
     },
     "execution_count": 457,
     "metadata": {},
     "output_type": "execute_result"
    }
   ],
   "source": [
    "test_dataset.isnull().sum()"
   ]
  },
  {
   "cell_type": "markdown",
   "metadata": {},
   "source": [
    "### Create Preprocessing Pipeline"
   ]
  },
  {
   "cell_type": "code",
   "execution_count": 458,
   "metadata": {},
   "outputs": [],
   "source": [
    "from sklearn.impute import SimpleImputer\n",
    "from sklearn.compose import ColumnTransformer\n",
    "from sklearn.pipeline import Pipeline\n",
    "from sklearn.preprocessing import StandardScaler, OneHotEncoder, OrdinalEncoder\n",
    "\n",
    "num_cols = [1,3, 4, 5, 6, 9]\n",
    "num_cols = [\"Age\", \"Tenure\", \"Usage Frequency\", \"Support Calls\", \"Payment Delay\", \"Total Spend\", \"Last Interaction\"]\n",
    "cat_cols = [2, 7, 8, 10]\n",
    "cat_cols = [\"Subscription Type\", \"Contract Length\"]\n",
    "gender_cols = [\"Gender\"]\n",
    "\n",
    "num_preprocessor = Pipeline(steps=[\n",
    "    # (\"num_imputer\", SimpleImputer(strategy=\"mean\")),\n",
    "    (\"scaler\", StandardScaler())\n",
    "])\n",
    "\n",
    "cat_preprocessor = Pipeline(steps=[\n",
    "    # (\"cat_imputer\", SimpleImputer(strategy=\"most_frequent\", fill_value=\"missing\")),\n",
    "    (\"label\", OrdinalEncoder())\n",
    "])\n",
    "\n",
    "gender_preprocessor = Pipeline(steps=[\n",
    "    # (\"gender_imputer\", SimpleImputer(strategy=\"most_frequent\", fill_value=\"missing\")),\n",
    "    (\"onehot\", OneHotEncoder(drop=\"first\"))\n",
    "])\n",
    "\n",
    "pre_transformer = ColumnTransformer(\n",
    "    transformers=[\n",
    "        (\"mean_imputer\", num_preprocessor , num_cols),\n",
    "        (\"gender_imputer\", gender_preprocessor, gender_cols),\n",
    "        (\"mode_imputer\", cat_preprocessor, cat_cols)\n",
    "    ]\n",
    ")\n",
    "\n",
    "\n"
   ]
  },
  {
   "cell_type": "code",
   "execution_count": 459,
   "metadata": {},
   "outputs": [
    {
     "name": "stdout",
     "output_type": "stream",
     "text": [
      "CustomerID                  2\n",
      "Age                        30\n",
      "Gender                 Female\n",
      "Tenure                     39\n",
      "Usage Frequency            14\n",
      "Support Calls               5\n",
      "Payment Delay              18\n",
      "Subscription Type    Standard\n",
      "Contract Length        Annual\n",
      "Total Spend             932.0\n",
      "Last Interaction           17\n",
      "Churn                       1\n",
      "Name: 0, dtype: object\n",
      "CustomerID                 3\n",
      "Age                       65\n",
      "Gender                Female\n",
      "Tenure                    49\n",
      "Usage Frequency            1\n",
      "Support Calls             10\n",
      "Payment Delay              8\n",
      "Subscription Type      Basic\n",
      "Contract Length      Monthly\n",
      "Total Spend            557.0\n",
      "Last Interaction           6\n",
      "Churn                      1\n",
      "Name: 1, dtype: object\n",
      "CustomerID                   4\n",
      "Age                         55\n",
      "Gender                  Female\n",
      "Tenure                      14\n",
      "Usage Frequency              4\n",
      "Support Calls                6\n",
      "Payment Delay               18\n",
      "Subscription Type        Basic\n",
      "Contract Length      Quarterly\n",
      "Total Spend              185.0\n",
      "Last Interaction             3\n",
      "Churn                        1\n",
      "Name: 2, dtype: object\n",
      "CustomerID                  5\n",
      "Age                        58\n",
      "Gender                   Male\n",
      "Tenure                     38\n",
      "Usage Frequency            21\n",
      "Support Calls               7\n",
      "Payment Delay               7\n",
      "Subscription Type    Standard\n",
      "Contract Length       Monthly\n",
      "Total Spend             396.0\n",
      "Last Interaction           29\n",
      "Churn                       1\n",
      "Name: 3, dtype: object\n",
      "CustomerID                 6\n",
      "Age                       23\n",
      "Gender                  Male\n",
      "Tenure                    32\n",
      "Usage Frequency           20\n",
      "Support Calls              5\n",
      "Payment Delay              8\n",
      "Subscription Type      Basic\n",
      "Contract Length      Monthly\n",
      "Total Spend            617.0\n",
      "Last Interaction          20\n",
      "Churn                      1\n",
      "Name: 4, dtype: object\n"
     ]
    }
   ],
   "source": [
    "# train_dataset = pre_transformer.fit_transform(train_dataset)\n",
    "# test_dataset = pre_transformer.fit_transform(test_dataset)\n",
    "print(train_dataset.iloc[0, :])\n",
    "print(train_dataset.iloc[1, :])\n",
    "print(train_dataset.iloc[2, :])\n",
    "print(train_dataset.iloc[3, :])\n",
    "print(train_dataset.iloc[4, :])\n",
    "\n",
    "# print(pre_transformer.get_feature_names_out())"
   ]
  },
  {
   "cell_type": "markdown",
   "metadata": {},
   "source": [
    "### Splitting between x and y"
   ]
  },
  {
   "cell_type": "code",
   "execution_count": 460,
   "metadata": {},
   "outputs": [],
   "source": [
    "x_train = train_dataset.iloc[:, 1:-1]\n",
    "y_train = train_dataset.iloc[:, -1]\n",
    "x_test = test_dataset.iloc[:, 1:-1]\n",
    "y_test = test_dataset.iloc[:, -1]"
   ]
  },
  {
   "cell_type": "code",
   "execution_count": 461,
   "metadata": {},
   "outputs": [
    {
     "name": "stdout",
     "output_type": "stream",
     "text": [
      "        Age  Gender  Tenure  Usage Frequency  Support Calls  Payment Delay  \\\n",
      "0        30  Female      39               14              5             18   \n",
      "1        65  Female      49                1             10              8   \n",
      "2        55  Female      14                4              6             18   \n",
      "3        58    Male      38               21              7              7   \n",
      "4        23    Male      32               20              5              8   \n",
      "...     ...     ...     ...              ...            ...            ...   \n",
      "440827   42    Male      54               15              1              3   \n",
      "440828   25  Female       8               13              1             20   \n",
      "440829   26    Male      35               27              1              5   \n",
      "440830   28    Male      55               14              2              0   \n",
      "440831   31    Male      48               20              1             14   \n",
      "\n",
      "       Subscription Type Contract Length  Total Spend  Last Interaction  \n",
      "0               Standard          Annual       932.00                17  \n",
      "1                  Basic         Monthly       557.00                 6  \n",
      "2                  Basic       Quarterly       185.00                 3  \n",
      "3               Standard         Monthly       396.00                29  \n",
      "4                  Basic         Monthly       617.00                20  \n",
      "...                  ...             ...          ...               ...  \n",
      "440827           Premium          Annual       716.38                 8  \n",
      "440828           Premium          Annual       745.38                 2  \n",
      "440829          Standard       Quarterly       977.31                 9  \n",
      "440830          Standard       Quarterly       602.55                 2  \n",
      "440831           Premium       Quarterly       567.77                21  \n",
      "\n",
      "[440832 rows x 10 columns]\n",
      "0         1\n",
      "1         1\n",
      "2         1\n",
      "3         1\n",
      "4         1\n",
      "         ..\n",
      "440827    0\n",
      "440828    0\n",
      "440829    0\n",
      "440830    0\n",
      "440831    0\n",
      "Name: Churn, Length: 440832, dtype: int64\n"
     ]
    }
   ],
   "source": [
    "print(x_train)\n",
    "print(y_train)"
   ]
  },
  {
   "cell_type": "markdown",
   "metadata": {},
   "source": [
    "### Creating Classifier Pipeline"
   ]
  },
  {
   "cell_type": "code",
   "execution_count": 462,
   "metadata": {},
   "outputs": [],
   "source": [
    "from sklearn.linear_model import LogisticRegression\n",
    "\n",
    "pipeline = Pipeline(steps=[\n",
    "    (\"preprocessor\", pre_transformer),\n",
    "    (\"classifier\", LogisticRegression())\n",
    "])"
   ]
  },
  {
   "cell_type": "code",
   "execution_count": 463,
   "metadata": {},
   "outputs": [
    {
     "data": {
      "text/html": [
       "<style>#sk-container-id-5 {color: black;}#sk-container-id-5 pre{padding: 0;}#sk-container-id-5 div.sk-toggleable {background-color: white;}#sk-container-id-5 label.sk-toggleable__label {cursor: pointer;display: block;width: 100%;margin-bottom: 0;padding: 0.3em;box-sizing: border-box;text-align: center;}#sk-container-id-5 label.sk-toggleable__label-arrow:before {content: \"▸\";float: left;margin-right: 0.25em;color: #696969;}#sk-container-id-5 label.sk-toggleable__label-arrow:hover:before {color: black;}#sk-container-id-5 div.sk-estimator:hover label.sk-toggleable__label-arrow:before {color: black;}#sk-container-id-5 div.sk-toggleable__content {max-height: 0;max-width: 0;overflow: hidden;text-align: left;background-color: #f0f8ff;}#sk-container-id-5 div.sk-toggleable__content pre {margin: 0.2em;color: black;border-radius: 0.25em;background-color: #f0f8ff;}#sk-container-id-5 input.sk-toggleable__control:checked~div.sk-toggleable__content {max-height: 200px;max-width: 100%;overflow: auto;}#sk-container-id-5 input.sk-toggleable__control:checked~label.sk-toggleable__label-arrow:before {content: \"▾\";}#sk-container-id-5 div.sk-estimator input.sk-toggleable__control:checked~label.sk-toggleable__label {background-color: #d4ebff;}#sk-container-id-5 div.sk-label input.sk-toggleable__control:checked~label.sk-toggleable__label {background-color: #d4ebff;}#sk-container-id-5 input.sk-hidden--visually {border: 0;clip: rect(1px 1px 1px 1px);clip: rect(1px, 1px, 1px, 1px);height: 1px;margin: -1px;overflow: hidden;padding: 0;position: absolute;width: 1px;}#sk-container-id-5 div.sk-estimator {font-family: monospace;background-color: #f0f8ff;border: 1px dotted black;border-radius: 0.25em;box-sizing: border-box;margin-bottom: 0.5em;}#sk-container-id-5 div.sk-estimator:hover {background-color: #d4ebff;}#sk-container-id-5 div.sk-parallel-item::after {content: \"\";width: 100%;border-bottom: 1px solid gray;flex-grow: 1;}#sk-container-id-5 div.sk-label:hover label.sk-toggleable__label {background-color: #d4ebff;}#sk-container-id-5 div.sk-serial::before {content: \"\";position: absolute;border-left: 1px solid gray;box-sizing: border-box;top: 0;bottom: 0;left: 50%;z-index: 0;}#sk-container-id-5 div.sk-serial {display: flex;flex-direction: column;align-items: center;background-color: white;padding-right: 0.2em;padding-left: 0.2em;position: relative;}#sk-container-id-5 div.sk-item {position: relative;z-index: 1;}#sk-container-id-5 div.sk-parallel {display: flex;align-items: stretch;justify-content: center;background-color: white;position: relative;}#sk-container-id-5 div.sk-item::before, #sk-container-id-5 div.sk-parallel-item::before {content: \"\";position: absolute;border-left: 1px solid gray;box-sizing: border-box;top: 0;bottom: 0;left: 50%;z-index: -1;}#sk-container-id-5 div.sk-parallel-item {display: flex;flex-direction: column;z-index: 1;position: relative;background-color: white;}#sk-container-id-5 div.sk-parallel-item:first-child::after {align-self: flex-end;width: 50%;}#sk-container-id-5 div.sk-parallel-item:last-child::after {align-self: flex-start;width: 50%;}#sk-container-id-5 div.sk-parallel-item:only-child::after {width: 0;}#sk-container-id-5 div.sk-dashed-wrapped {border: 1px dashed gray;margin: 0 0.4em 0.5em 0.4em;box-sizing: border-box;padding-bottom: 0.4em;background-color: white;}#sk-container-id-5 div.sk-label label {font-family: monospace;font-weight: bold;display: inline-block;line-height: 1.2em;}#sk-container-id-5 div.sk-label-container {text-align: center;}#sk-container-id-5 div.sk-container {/* jupyter's `normalize.less` sets `[hidden] { display: none; }` but bootstrap.min.css set `[hidden] { display: none !important; }` so we also need the `!important` here to be able to override the default hidden behavior on the sphinx rendered scikit-learn.org. See: https://github.com/scikit-learn/scikit-learn/issues/21755 */display: inline-block !important;position: relative;}#sk-container-id-5 div.sk-text-repr-fallback {display: none;}</style><div id=\"sk-container-id-5\" class=\"sk-top-container\"><div class=\"sk-text-repr-fallback\"><pre>Pipeline(steps=[(&#x27;preprocessor&#x27;,\n",
       "                 ColumnTransformer(transformers=[(&#x27;mean_imputer&#x27;,\n",
       "                                                  Pipeline(steps=[(&#x27;scaler&#x27;,\n",
       "                                                                   StandardScaler())]),\n",
       "                                                  [&#x27;Age&#x27;, &#x27;Tenure&#x27;,\n",
       "                                                   &#x27;Usage Frequency&#x27;,\n",
       "                                                   &#x27;Support Calls&#x27;,\n",
       "                                                   &#x27;Payment Delay&#x27;,\n",
       "                                                   &#x27;Total Spend&#x27;,\n",
       "                                                   &#x27;Last Interaction&#x27;]),\n",
       "                                                 (&#x27;gender_imputer&#x27;,\n",
       "                                                  Pipeline(steps=[(&#x27;onehot&#x27;,\n",
       "                                                                   OneHotEncoder(drop=&#x27;first&#x27;))]),\n",
       "                                                  [&#x27;Gender&#x27;]),\n",
       "                                                 (&#x27;mode_imputer&#x27;,\n",
       "                                                  Pipeline(steps=[(&#x27;label&#x27;,\n",
       "                                                                   OrdinalEncoder())]),\n",
       "                                                  [&#x27;Subscription Type&#x27;,\n",
       "                                                   &#x27;Contract Length&#x27;])])),\n",
       "                (&#x27;classifier&#x27;, LogisticRegression())])</pre><b>In a Jupyter environment, please rerun this cell to show the HTML representation or trust the notebook. <br />On GitHub, the HTML representation is unable to render, please try loading this page with nbviewer.org.</b></div><div class=\"sk-container\" hidden><div class=\"sk-item sk-dashed-wrapped\"><div class=\"sk-label-container\"><div class=\"sk-label sk-toggleable\"><input class=\"sk-toggleable__control sk-hidden--visually\" id=\"sk-estimator-id-37\" type=\"checkbox\" ><label for=\"sk-estimator-id-37\" class=\"sk-toggleable__label sk-toggleable__label-arrow\">Pipeline</label><div class=\"sk-toggleable__content\"><pre>Pipeline(steps=[(&#x27;preprocessor&#x27;,\n",
       "                 ColumnTransformer(transformers=[(&#x27;mean_imputer&#x27;,\n",
       "                                                  Pipeline(steps=[(&#x27;scaler&#x27;,\n",
       "                                                                   StandardScaler())]),\n",
       "                                                  [&#x27;Age&#x27;, &#x27;Tenure&#x27;,\n",
       "                                                   &#x27;Usage Frequency&#x27;,\n",
       "                                                   &#x27;Support Calls&#x27;,\n",
       "                                                   &#x27;Payment Delay&#x27;,\n",
       "                                                   &#x27;Total Spend&#x27;,\n",
       "                                                   &#x27;Last Interaction&#x27;]),\n",
       "                                                 (&#x27;gender_imputer&#x27;,\n",
       "                                                  Pipeline(steps=[(&#x27;onehot&#x27;,\n",
       "                                                                   OneHotEncoder(drop=&#x27;first&#x27;))]),\n",
       "                                                  [&#x27;Gender&#x27;]),\n",
       "                                                 (&#x27;mode_imputer&#x27;,\n",
       "                                                  Pipeline(steps=[(&#x27;label&#x27;,\n",
       "                                                                   OrdinalEncoder())]),\n",
       "                                                  [&#x27;Subscription Type&#x27;,\n",
       "                                                   &#x27;Contract Length&#x27;])])),\n",
       "                (&#x27;classifier&#x27;, LogisticRegression())])</pre></div></div></div><div class=\"sk-serial\"><div class=\"sk-item sk-dashed-wrapped\"><div class=\"sk-label-container\"><div class=\"sk-label sk-toggleable\"><input class=\"sk-toggleable__control sk-hidden--visually\" id=\"sk-estimator-id-38\" type=\"checkbox\" ><label for=\"sk-estimator-id-38\" class=\"sk-toggleable__label sk-toggleable__label-arrow\">preprocessor: ColumnTransformer</label><div class=\"sk-toggleable__content\"><pre>ColumnTransformer(transformers=[(&#x27;mean_imputer&#x27;,\n",
       "                                 Pipeline(steps=[(&#x27;scaler&#x27;, StandardScaler())]),\n",
       "                                 [&#x27;Age&#x27;, &#x27;Tenure&#x27;, &#x27;Usage Frequency&#x27;,\n",
       "                                  &#x27;Support Calls&#x27;, &#x27;Payment Delay&#x27;,\n",
       "                                  &#x27;Total Spend&#x27;, &#x27;Last Interaction&#x27;]),\n",
       "                                (&#x27;gender_imputer&#x27;,\n",
       "                                 Pipeline(steps=[(&#x27;onehot&#x27;,\n",
       "                                                  OneHotEncoder(drop=&#x27;first&#x27;))]),\n",
       "                                 [&#x27;Gender&#x27;]),\n",
       "                                (&#x27;mode_imputer&#x27;,\n",
       "                                 Pipeline(steps=[(&#x27;label&#x27;, OrdinalEncoder())]),\n",
       "                                 [&#x27;Subscription Type&#x27;, &#x27;Contract Length&#x27;])])</pre></div></div></div><div class=\"sk-parallel\"><div class=\"sk-parallel-item\"><div class=\"sk-item\"><div class=\"sk-label-container\"><div class=\"sk-label sk-toggleable\"><input class=\"sk-toggleable__control sk-hidden--visually\" id=\"sk-estimator-id-39\" type=\"checkbox\" ><label for=\"sk-estimator-id-39\" class=\"sk-toggleable__label sk-toggleable__label-arrow\">mean_imputer</label><div class=\"sk-toggleable__content\"><pre>[&#x27;Age&#x27;, &#x27;Tenure&#x27;, &#x27;Usage Frequency&#x27;, &#x27;Support Calls&#x27;, &#x27;Payment Delay&#x27;, &#x27;Total Spend&#x27;, &#x27;Last Interaction&#x27;]</pre></div></div></div><div class=\"sk-serial\"><div class=\"sk-item\"><div class=\"sk-serial\"><div class=\"sk-item\"><div class=\"sk-estimator sk-toggleable\"><input class=\"sk-toggleable__control sk-hidden--visually\" id=\"sk-estimator-id-40\" type=\"checkbox\" ><label for=\"sk-estimator-id-40\" class=\"sk-toggleable__label sk-toggleable__label-arrow\">StandardScaler</label><div class=\"sk-toggleable__content\"><pre>StandardScaler()</pre></div></div></div></div></div></div></div></div><div class=\"sk-parallel-item\"><div class=\"sk-item\"><div class=\"sk-label-container\"><div class=\"sk-label sk-toggleable\"><input class=\"sk-toggleable__control sk-hidden--visually\" id=\"sk-estimator-id-41\" type=\"checkbox\" ><label for=\"sk-estimator-id-41\" class=\"sk-toggleable__label sk-toggleable__label-arrow\">gender_imputer</label><div class=\"sk-toggleable__content\"><pre>[&#x27;Gender&#x27;]</pre></div></div></div><div class=\"sk-serial\"><div class=\"sk-item\"><div class=\"sk-serial\"><div class=\"sk-item\"><div class=\"sk-estimator sk-toggleable\"><input class=\"sk-toggleable__control sk-hidden--visually\" id=\"sk-estimator-id-42\" type=\"checkbox\" ><label for=\"sk-estimator-id-42\" class=\"sk-toggleable__label sk-toggleable__label-arrow\">OneHotEncoder</label><div class=\"sk-toggleable__content\"><pre>OneHotEncoder(drop=&#x27;first&#x27;)</pre></div></div></div></div></div></div></div></div><div class=\"sk-parallel-item\"><div class=\"sk-item\"><div class=\"sk-label-container\"><div class=\"sk-label sk-toggleable\"><input class=\"sk-toggleable__control sk-hidden--visually\" id=\"sk-estimator-id-43\" type=\"checkbox\" ><label for=\"sk-estimator-id-43\" class=\"sk-toggleable__label sk-toggleable__label-arrow\">mode_imputer</label><div class=\"sk-toggleable__content\"><pre>[&#x27;Subscription Type&#x27;, &#x27;Contract Length&#x27;]</pre></div></div></div><div class=\"sk-serial\"><div class=\"sk-item\"><div class=\"sk-serial\"><div class=\"sk-item\"><div class=\"sk-estimator sk-toggleable\"><input class=\"sk-toggleable__control sk-hidden--visually\" id=\"sk-estimator-id-44\" type=\"checkbox\" ><label for=\"sk-estimator-id-44\" class=\"sk-toggleable__label sk-toggleable__label-arrow\">OrdinalEncoder</label><div class=\"sk-toggleable__content\"><pre>OrdinalEncoder()</pre></div></div></div></div></div></div></div></div></div></div><div class=\"sk-item\"><div class=\"sk-estimator sk-toggleable\"><input class=\"sk-toggleable__control sk-hidden--visually\" id=\"sk-estimator-id-45\" type=\"checkbox\" ><label for=\"sk-estimator-id-45\" class=\"sk-toggleable__label sk-toggleable__label-arrow\">LogisticRegression</label><div class=\"sk-toggleable__content\"><pre>LogisticRegression()</pre></div></div></div></div></div></div></div>"
      ],
      "text/plain": [
       "Pipeline(steps=[('preprocessor',\n",
       "                 ColumnTransformer(transformers=[('mean_imputer',\n",
       "                                                  Pipeline(steps=[('scaler',\n",
       "                                                                   StandardScaler())]),\n",
       "                                                  ['Age', 'Tenure',\n",
       "                                                   'Usage Frequency',\n",
       "                                                   'Support Calls',\n",
       "                                                   'Payment Delay',\n",
       "                                                   'Total Spend',\n",
       "                                                   'Last Interaction']),\n",
       "                                                 ('gender_imputer',\n",
       "                                                  Pipeline(steps=[('onehot',\n",
       "                                                                   OneHotEncoder(drop='first'))]),\n",
       "                                                  ['Gender']),\n",
       "                                                 ('mode_imputer',\n",
       "                                                  Pipeline(steps=[('label',\n",
       "                                                                   OrdinalEncoder())]),\n",
       "                                                  ['Subscription Type',\n",
       "                                                   'Contract Length'])])),\n",
       "                ('classifier', LogisticRegression())])"
      ]
     },
     "execution_count": 463,
     "metadata": {},
     "output_type": "execute_result"
    }
   ],
   "source": [
    "pipeline.fit(x_train,y_train)"
   ]
  },
  {
   "cell_type": "markdown",
   "metadata": {},
   "source": [
    "### Predicting the Test Results"
   ]
  },
  {
   "cell_type": "code",
   "execution_count": 464,
   "metadata": {},
   "outputs": [],
   "source": [
    "y_pred = pd.Series(pipeline.predict(x_test))"
   ]
  },
  {
   "cell_type": "code",
   "execution_count": 465,
   "metadata": {},
   "outputs": [],
   "source": [
    "df = pd.DataFrame({\"Predicted\": y_pred, \"Actual\": y_test})"
   ]
  },
  {
   "cell_type": "code",
   "execution_count": 466,
   "metadata": {},
   "outputs": [
    {
     "name": "stdout",
     "output_type": "stream",
     "text": [
      "    Predicted  Actual\n",
      "0           1       1\n",
      "1           1       0\n",
      "2           1       0\n",
      "3           1       0\n",
      "4           1       0\n",
      "5           1       0\n",
      "6           1       1\n",
      "7           1       0\n",
      "8           1       0\n",
      "9           0       0\n",
      "10          1       1\n",
      "11          1       0\n",
      "12          0       0\n",
      "13          1       0\n",
      "14          1       0\n",
      "15          1       1\n",
      "16          1       0\n",
      "17          1       0\n",
      "18          1       0\n",
      "19          1       0\n",
      "20          0       0\n",
      "21          0       0\n",
      "22          0       0\n",
      "23          1       0\n",
      "24          1       0\n",
      "25          1       1\n",
      "26          1       0\n",
      "27          1       0\n",
      "28          1       0\n",
      "29          1       1\n",
      "30          1       0\n",
      "31          0       0\n",
      "32          0       0\n",
      "33          0       0\n",
      "34          1       1\n",
      "35          1       0\n",
      "36          1       0\n",
      "37          1       1\n",
      "38          1       0\n",
      "39          1       0\n",
      "40          1       1\n",
      "41          1       0\n",
      "42          1       1\n",
      "43          1       0\n",
      "44          1       0\n",
      "45          1       0\n",
      "46          1       1\n",
      "47          1       0\n",
      "48          1       1\n",
      "49          1       0\n",
      "50          1       0\n",
      "51          0       0\n",
      "52          1       1\n",
      "53          1       0\n",
      "54          1       1\n",
      "55          0       0\n",
      "56          1       0\n",
      "57          1       0\n",
      "58          1       1\n",
      "59          0       0\n",
      "60          1       1\n",
      "61          1       0\n",
      "62          1       0\n",
      "63          0       0\n",
      "64          0       0\n",
      "65          1       1\n",
      "66          1       0\n",
      "67          1       1\n",
      "68          1       0\n",
      "69          1       1\n",
      "70          0       0\n",
      "71          0       0\n",
      "72          1       0\n",
      "73          1       1\n",
      "74          1       0\n",
      "75          1       1\n",
      "76          1       1\n",
      "77          1       1\n",
      "78          1       0\n",
      "79          1       0\n",
      "80          1       0\n",
      "81          1       1\n",
      "82          1       0\n",
      "83          1       0\n",
      "84          1       1\n",
      "85          1       0\n",
      "86          0       0\n",
      "87          1       1\n",
      "88          1       0\n",
      "89          1       0\n",
      "90          0       0\n",
      "91          1       0\n",
      "92          1       0\n",
      "93          1       1\n",
      "94          1       0\n",
      "95          1       0\n",
      "96          1       0\n",
      "97          1       0\n",
      "98          1       1\n",
      "99          1       0\n"
     ]
    }
   ],
   "source": [
    "pd.set_option('display.max_rows', 300)\n",
    "\n",
    "print(df.head(100))"
   ]
  },
  {
   "cell_type": "code",
   "execution_count": 467,
   "metadata": {},
   "outputs": [
    {
     "name": "stdout",
     "output_type": "stream",
     "text": [
      "[[ 7808 26073]\n",
      " [  532 29961]]\n"
     ]
    },
    {
     "data": {
      "text/plain": [
       "0.5867120265945879"
      ]
     },
     "execution_count": 467,
     "metadata": {},
     "output_type": "execute_result"
    }
   ],
   "source": [
    "from sklearn.metrics import confusion_matrix, accuracy_score\n",
    "\n",
    "cm = confusion_matrix(y_test, y_pred)\n",
    "print(cm)\n",
    "accuracy_score(y_test, y_pred)"
   ]
  }
 ],
 "metadata": {
  "kernelspec": {
   "display_name": "Python 3",
   "language": "python",
   "name": "python3"
  },
  "language_info": {
   "codemirror_mode": {
    "name": "ipython",
    "version": 3
   },
   "file_extension": ".py",
   "mimetype": "text/x-python",
   "name": "python",
   "nbconvert_exporter": "python",
   "pygments_lexer": "ipython3",
   "version": "3.10.6"
  },
  "orig_nbformat": 4
 },
 "nbformat": 4,
 "nbformat_minor": 2
}
